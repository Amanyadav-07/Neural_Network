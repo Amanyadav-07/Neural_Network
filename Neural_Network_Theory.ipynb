{
  "nbformat": 4,
  "nbformat_minor": 0,
  "metadata": {
    "colab": {
      "provenance": []
    },
    "kernelspec": {
      "name": "python3",
      "display_name": "Python 3"
    },
    "language_info": {
      "name": "python"
    }
  },
  "cells": [
    {
      "cell_type": "markdown",
      "source": [
        "##1. What is deep learning, and how is it connected to artificial Intelligence?"
      ],
      "metadata": {
        "id": "AAeVl62MURJz"
      }
    },
    {
      "cell_type": "markdown",
      "source": [
        "####Ans:- Deep Learning is a branch of Artificial Intelligence (AI) and Machine Learning (ML) that focuses on teaching computers to learn from large amounts of data using artificial neural networks. These neural networks mimic the way the human brain processes information.\n",
        "\n",
        "####How is Deep Learning Connected to Artificial Intelligence:- Deep Learning is a subset of Machine Learning(ML), which itself is a subset of Artificial Intelligence(AI).\n"
      ],
      "metadata": {
        "id": "vAcqknJjUgp8"
      }
    },
    {
      "cell_type": "markdown",
      "source": [
        "##2. What is a neural network, and what are the different types of neural networks?"
      ],
      "metadata": {
        "id": "ydUlKicEU7ck"
      }
    },
    {
      "cell_type": "markdown",
      "source": [
        "####Ans:- A Neural Network is a type of artificial intelligence model designed to mimic the way the human brain processes information. It consists of interconnected layers of nodes (neurons) that process input data and make predictions or decisions.\n",
        "\n",
        "####Neural networks are the foundation of Deep Learning, and they help computers recognize patterns, classify data, and make intelligent decisions.\n",
        "\n",
        "####Types of Neural Networks:-\n",
        "\n",
        "```\n",
        "1. Feedforward Neural Network(FNN)\n",
        "2. Convolutional Neural Network(CNN)\n",
        "3. Recurrent Neural Network(RNN)\n",
        "4. Long Short-Term Memory(LSTM)\n",
        "5. Generative Adersarial Network(GAN)\n",
        "6. Autoencoder\n",
        "```\n",
        "\n"
      ],
      "metadata": {
        "id": "puFseu_3VHRU"
      }
    },
    {
      "cell_type": "markdown",
      "source": [
        "##3. What is the mathematical structure of a neural network?"
      ],
      "metadata": {
        "id": "LFXtTjxtVrbL"
      }
    },
    {
      "cell_type": "markdown",
      "source": [
        "####Ans:- A Neural Network is a mathematical model that processes input data through layers of interconnected neurons. It consists of weights, biases, and activation functions that transform inputs into outputs."
      ],
      "metadata": {
        "id": "mWgIKLN5V6g9"
      }
    },
    {
      "cell_type": "markdown",
      "source": [
        "##4. What is an activation function, and why is it essential in neural network.\n"
      ],
      "metadata": {
        "id": "YBwV8KU4V-O-"
      }
    },
    {
      "cell_type": "markdown",
      "source": [
        "####Ans:- An Activation Function is a mathematical function used in a neural network to introduce non-linearity into the model. It determines whether a neuron should be activated (fired) or not based on the weighted sum of inputs.\n",
        "\n",
        "####Why is an Activation function Essential:-\n",
        "\n",
        "```\n",
        "1. Introduces Non-Linearity\n",
        "2. Enables Learning of Complex Patterns\n",
        "3. Prevents Vanishing Gradient Problem\n",
        "4. Controls Neuron Firing\n",
        "```\n",
        "\n"
      ],
      "metadata": {
        "id": "1Ly7VGqYWBxz"
      }
    },
    {
      "cell_type": "markdown",
      "source": [
        "##5. Could you list some common activation functions used in neural networks.\n"
      ],
      "metadata": {
        "id": "BqkTMmIjWi_T"
      }
    },
    {
      "cell_type": "markdown",
      "source": [
        "####Ans:- List of some Common activation functions used in neural networks:-\n",
        "\n",
        "```\n",
        "1. Sigmoid Activation Function\n",
        "2. Tanh (Hyperbolic Tangent) Activation Function\n",
        "3. ReLU(Rectified Linear Unit) Activation Function\n",
        "4. Leaky ReLU Activation Function\n",
        "5. Softmax Activation Function\n",
        "6. Swish Activation Function(Developed by Google)\n",
        "```\n",
        "\n"
      ],
      "metadata": {
        "id": "haXJcZL2WrPO"
      }
    },
    {
      "cell_type": "markdown",
      "source": [
        "##6. What is a multilayer neural network."
      ],
      "metadata": {
        "id": "Vq3z4RFxXMgp"
      }
    },
    {
      "cell_type": "markdown",
      "source": [
        "####Ans:- A Multilayer Neural Network (MLN) is a type of artificial neural network that consists of multiple layers of neurons. It is also known as a Multilayer Perceptron (MLP) when using feedforward connections.\n",
        "\n",
        "####Unlike simple neural networks, which have only one layer between input and output, MLNs have multiple hidden layers, allowing them to learn complex patterns and relationships in data."
      ],
      "metadata": {
        "id": "5n4B3_E2XUJU"
      }
    },
    {
      "cell_type": "markdown",
      "source": [
        "##7. What is a loss function, and why is it crucial for neural network training.\n"
      ],
      "metadata": {
        "id": "8ZpDWaG0XXWK"
      }
    },
    {
      "cell_type": "markdown",
      "source": [
        "####Ans:- A Loss Function is a mathematical function used to measure how well a neural network is performing by comparing the predicted output with the actual output. It helps the model understand the error in its predictions and guides it to improve.\n",
        "\n",
        "####Why is a Loss Function Crucial in Neural Network Training:-\n",
        "\n",
        "```\n",
        "1. Guides Learning\n",
        "2. Measures Performance\n",
        "3. Optimizes Model\n",
        "```\n",
        "\n"
      ],
      "metadata": {
        "id": "E8QdgzEaXdv_"
      }
    },
    {
      "cell_type": "markdown",
      "source": [
        "##8. What are some common types of loss functions.\n"
      ],
      "metadata": {
        "id": "2_o5ijTZXwCR"
      }
    },
    {
      "cell_type": "markdown",
      "source": [
        "####Ans:- Types of Loss Functions:-\n",
        "\n",
        "1. Loss Functions for regression Problem\n",
        "\n",
        "\n",
        "\n",
        "            \n",
        "             Mean Squared Error (MSE)\n",
        "             Mean Absolute Erros(MAE)\n",
        "             Huber Loss\n",
        "             Root Mean Squared Error(RMSE\n",
        "\n",
        "            \n",
        "2. Loss Function for Classification Problem:-\n",
        "\n",
        "            Binary Cross-Enropy(Log-loss)\n",
        "            Sparse Categorical Cross-Entropy\n",
        "\n",
        "\n"
      ],
      "metadata": {
        "id": "vnQd04NYX2dk"
      }
    },
    {
      "cell_type": "markdown",
      "source": [
        "##9. How does a neural network learn.\n"
      ],
      "metadata": {
        "id": "CSa1lFAKYl1G"
      }
    },
    {
      "cell_type": "markdown",
      "source": [
        "####Ans:- A neural network learns by adjusting its internal parameters (weights and biases) to make better predictions. This process involves forward propagation, loss calculation, backpropagation, and optimization.\n"
      ],
      "metadata": {
        "id": "1F-LgIaCYtjs"
      }
    },
    {
      "cell_type": "markdown",
      "source": [
        "##10. What is an optimizer in neural networks, and why is it necessary.\n"
      ],
      "metadata": {
        "id": "7QY4qzJbYzJs"
      }
    },
    {
      "cell_type": "markdown",
      "source": [
        "####Ans:- An optimizer is an algorithm used to update the weights and biases of a neural network to minimize the loss function and improve model accuracy.\n",
        "\n",
        "####Why is an Optimizer Necessary:-\n",
        "\n",
        "\n",
        "```\n",
        "1. reduces Errors\n",
        "2. Speeds up Learning\n",
        "3. Prevents Overfitting/Underfitting\n",
        "```\n",
        "\n"
      ],
      "metadata": {
        "id": "ayrWUYXyY6_b"
      }
    },
    {
      "cell_type": "markdown",
      "source": [
        "##11. Could you briefly describe some common optimizers?"
      ],
      "metadata": {
        "id": "m_6MBw_PZM-g"
      }
    },
    {
      "cell_type": "markdown",
      "source": [
        "####Ans:- Optimizers help adjust weights and biases in neural networks to minimize loss and improve performance. Here are the most commonly used optimizers:-\n",
        "\n",
        "```\n",
        "1. Gradient Descent\n",
        "2. Momentum\n",
        "3. RMSprop(Root Mean Square Propagation)\n",
        "4. Adam(Adaptive Moment Estimation)\n",
        "5. Adagrad(Adaptive Gradient Algorithm)\n",
        "6. AdaDelta\n",
        "```\n",
        "\n"
      ],
      "metadata": {
        "id": "ydPqzWKMZYOT"
      }
    },
    {
      "cell_type": "markdown",
      "source": [
        "##12. Can you explain forward and backward propagation in a neural network.\n"
      ],
      "metadata": {
        "id": "3-awuUzKZxxd"
      }
    },
    {
      "cell_type": "markdown",
      "source": [
        "##Ans:- Forward Propagation:-\n",
        "\n",
        "```\n",
        "Defination:- It is the process where input data flows through the network layer by layer to generate an output.\n",
        "```\n",
        "\n",
        "####BackWard Propagation:-\n",
        "\n",
        "\n",
        "```\n",
        "Defination:- It is the process of adjusting the weights to reduce error by propagating the loss backward through the network.\n",
        "```\n",
        "\n",
        "\n",
        "\n"
      ],
      "metadata": {
        "id": "o5jb2j1pZ562"
      }
    },
    {
      "cell_type": "markdown",
      "source": [
        "##13. What is the weight initialization, and how does it impact training?"
      ],
      "metadata": {
        "id": "oUXpO74MaXT3"
      }
    },
    {
      "cell_type": "markdown",
      "source": [
        "####Ans:- Weight Initialization is the process of setting the initial values of weights in a neural network before training starts.\n",
        "\n",
        "####Since neural networks learn by adjusting weights, starting with the right values can speed up learning and improve accuracy.\n",
        "\n",
        "####How does it impact training:-\n",
        "\n",
        "\n",
        "\n",
        "```\n",
        "Good initialization:- Faster training, stable learning, better accuracy.\n",
        "Bad initialization:- Slow learning, geadient problem, poor accuracy\n",
        "```\n",
        "\n"
      ],
      "metadata": {
        "id": "dme5LYf0as6p"
      }
    },
    {
      "cell_type": "markdown",
      "source": [
        "##14. What is the vanishing gradient problem in deep learning.\n"
      ],
      "metadata": {
        "id": "Ekci7AJobHpB"
      }
    },
    {
      "cell_type": "markdown",
      "source": [
        "####Ans:- The vanishing gradient problem occurs when gradients (small changes in weights) become extremely small during backpropagation, making it difficult for deep neural networks to learn.\n",
        "\n",
        "* This mainly happens in deep networks using Sigmoid or Tanh activation functions.\n",
        "* When gradients shrink too much, earlier layers stop learning, leading to slow or no training progress."
      ],
      "metadata": {
        "id": "yLK77gszbM4d"
      }
    },
    {
      "cell_type": "markdown",
      "source": [
        "##15. What is the exploding gradient problem?\n"
      ],
      "metadata": {
        "id": "rH8ylBf4bXMn"
      }
    },
    {
      "cell_type": "markdown",
      "source": [
        "####Ans:- The exploding gradient problem happens when gradients become extremely large during backpropagation, causing unstable updates and making the neural network weights grow uncontrollably.\n",
        "\n",
        "* This mainly occurs in deep networks with many layers.\n",
        "* Leads to very large weight updates, making the model unstable and unable to learn properly."
      ],
      "metadata": {
        "id": "3MkFsurVbdMv"
      }
    }
  ]
}